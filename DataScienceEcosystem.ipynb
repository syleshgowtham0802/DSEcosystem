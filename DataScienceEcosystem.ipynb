{
 "cells": [
  {
   "cell_type": "markdown",
   "id": "31e4b0d6-f9a3-4832-b93a-460b4806b373",
   "metadata": {
    "tags": []
   },
   "source": [
    "# Data Science Tools and Ecosystem"
   ]
  },
  {
   "cell_type": "markdown",
   "id": "b14e84bb-1a7a-4284-b1b4-2df07ef0e3f1",
   "metadata": {},
   "source": [
    "In this notebook, Data Science Tools and Ecosystem are summarized."
   ]
  },
  {
   "cell_type": "markdown",
   "id": "3bc27bed-23e9-4833-b840-88ffdae9e8b3",
   "metadata": {},
   "source": [
    "Objectives:\n",
    "- List popular languages for Data Science\n",
    "- List commonly used libraries for Data Science\n",
    "- List tools for Data Science\n",
    "- List examples for evaluating arithmetic expressions in python"
   ]
  },
  {
   "cell_type": "markdown",
   "id": "ff862430-9e6c-463b-94ac-af1483d5dc08",
   "metadata": {
    "tags": []
   },
   "source": [
    "### Some of the popular languages that Data Scientists use are:\n",
    "1. Python\n",
    "2. R\n",
    "3. SQL\n",
    "4. Java\n",
    "5. Scala\n",
    "6. MATLAB\n",
    "7. Julia"
   ]
  },
  {
   "cell_type": "markdown",
   "id": "87937421-090a-4c38-8a9c-2b11c56361d7",
   "metadata": {
    "tags": []
   },
   "source": [
    "#### Some of the commonly used libraries used by Data Scientists include:\n",
    "\n",
    "1. pandas\n",
    "2. scikit-learn\n",
    "3. SciPy"
   ]
  },
  {
   "cell_type": "markdown",
   "id": "4daddeb8-b427-4f9f-97a9-d52366feacad",
   "metadata": {},
   "source": [
    "| Data Science Tools |\n",
    "| ------------------ |\n",
    "| Jupyter Notebook |\n",
    "| RStudio |\n",
    "| Spyder |"
   ]
  },
  {
   "cell_type": "markdown",
   "id": "b1279f21-8a05-47b7-9db0-432d2ca0fa6c",
   "metadata": {},
   "source": [
    "### Below are a few examples of evaluating arithmetic expressions in Python"
   ]
  },
  {
   "cell_type": "code",
   "execution_count": 4,
   "id": "2c5ad5e6-7129-4235-9d69-716256141da5",
   "metadata": {
    "tags": []
   },
   "outputs": [
    {
     "name": "stdout",
     "output_type": "stream",
     "text": [
      "17\n"
     ]
    }
   ],
   "source": [
    "#This a simple arithmetic expression to mutiply then add integers\n",
    "res = (3*4)+5\n",
    "print(res)"
   ]
  },
  {
   "cell_type": "code",
   "execution_count": 11,
   "id": "7f87875a-d4d5-4695-b210-1a33d2d5598c",
   "metadata": {
    "tags": []
   },
   "outputs": [
    {
     "name": "stdout",
     "output_type": "stream",
     "text": [
      "3 hours, 20 minutes\n"
     ]
    }
   ],
   "source": [
    "#This will convert 200 minutes to hours by diving by 60\n",
    "minutes = 0\n",
    "hours = 0\n",
    "given_minutes = 200\n",
    "hours = given_minutes//60\n",
    "minutes = given_minutes%60\n",
    "print(str(hours)+\" hours, \"+str(minutes)+\" minutes\")"
   ]
  },
  {
   "cell_type": "markdown",
   "id": "f26efc03-231c-457f-b53f-96c475da468a",
   "metadata": {},
   "source": [
    "## Author\n",
    "Sylesh Gowtham"
   ]
  }
 ],
 "metadata": {
  "kernelspec": {
   "display_name": "Python",
   "language": "python",
   "name": "conda-env-python-py"
  },
  "language_info": {
   "codemirror_mode": {
    "name": "ipython",
    "version": 3
   },
   "file_extension": ".py",
   "mimetype": "text/x-python",
   "name": "python",
   "nbconvert_exporter": "python",
   "pygments_lexer": "ipython3",
   "version": "3.7.12"
  }
 },
 "nbformat": 4,
 "nbformat_minor": 5
}
